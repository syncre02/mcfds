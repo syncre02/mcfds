{
 "cells": [
  {
   "attachments": {},
   "cell_type": "markdown",
   "metadata": {},
   "source": [
    "# Homework 3 (Mathematical and Computational Foundations of Data Science)\n",
    "- Instructor: [Sina Hazratpour](https://sinhp.github.io)\n",
    "- Zulip server: [mcfds.zulipchat.com](https://mcfds.zulipchat.com)\n",
    "\n",
    "\n",
    "## Homework Policies\n",
    "Homework should be submitted through Gradescope. The code needed to access gradescope was sent via e-mail.\n",
    "\n",
    "All answers should be fully motivated, with logically complete arguments and motivations. No late homework will be accepted. \n",
    "\n",
    "All submitted homework must be written up individually without consulting anyone else’s written solution.\n",
    "\n",
    "The submission of homework that require coding needs to be fully commented, the inputs and and outputs (text and/or figures) clearly explained. Both the correctness of the code and the clarity of comments will contribute to the grade you receive. Often the commenting is more extensive than the code itself. You should discuss the outputs of your code, critically and as needed in order to answer specific questions in the problems, so that the questions are fully answered. Outputs without comments/discussion will not be counted.\n",
    "\n"
   ]
  },
  {
   "attachments": {},
   "cell_type": "markdown",
   "metadata": {},
   "source": [
    "\n",
    "## Problem 1 \n",
    "\n",
    "1. Show that for all $ m \\times n $ matrices we have \n",
    "$$ \\| A \\|_\\mathrm{F} \\le \\sqrt{\\mathrm{rank}(A)} \\,   \\| A  \\|_2 \\le \\sqrt{m \\, \\mathrm{rank}(A)}  \\| A \\|_\\infty $$  \n",
    "2. Given an SVD factorization $A = U \\Sigma V^*$, define a sequence  $\\{ \\tilde{A_k}\\}_{k \\in \\mathbb{N}}$ of matrices where $$\\tilde{A_k} = U \\left( \\Sigma + \\frac{1}{k} \\, \\tilde{I}_{m\\times n} \\right) V^* \\, .$$ \n",
    "Here the matrix $\\tilde{I}_{m\\times n}$ is rectangular analogue of the identity square matrix: the $ij$ entry of $\\tilde{I}$ is given by the Kronecker $\\delta_{ij}$. Show that every $\\tilde{A}_k$ is a full rank matrix. \n",
    "Prove that the sequence $\\tilde{A_k}$ converges to $A$ with respect to the 2-norm, that is for each positive $\\epsilon$, no matter how small, there is some natural number $N$ such for all indices $k \\ge N$, we have $\\| A - \\tilde{A}_k  \\|_2 \\le \\epsilon$.   \n",
    "3. Using one of the inequalities you proved in the first part, show that the sequence $\\tilde{A_k}$ converges to $A$ with respect to the Frobenius norm as well. \n",
    "4. Argue why the last two parts imply that the set of full-rank $m \\times n$ matrices is a dense subset of $\\mathbb{C}^{m\\times n}$. \n",
    "\n"
   ]
  },
  {
   "attachments": {},
   "cell_type": "markdown",
   "metadata": {},
   "source": [
    "## Problem 2 \n",
    "\n",
    "Here's an advanced warning that the text of this problem is going to be long, but don't worry! The length of this problem does not reflect the level of its difficulty. The problem contains excessive commentary to guid you through it.  The problem also has 9 parts, but the answers to most parts are rather short. \n",
    "\n",
    "Divide the unit circle $S^1$ in $n$ equal intervals, using the $n$ equi-spaced points $\\mathbb{S}_n^1 := \\{x_i \\}_{i=0}^{n-1}$ listed clockwise. You may also think of this as starting with the unit interval $[0, 1]$, discretized at equally-spaced points $x_0 = 0, x_1 = \\frac{1}{n−1} , \\ldots , x_i = \\frac{i}{n−1} ,...,x_{n−1} = \\frac{n−2}{n−1}$, and then bending the interval into a circle, glueing the points $0$ and $1$. Also we will consider the points as having indices modulo n, meaning that $x_{n+i} = x_i$ for $i=0, 1, 2, $ and so on . So, for example, $x_n = x_0, x_{n+1} = x_1, x_{−1} = x_{n−1}$.\n",
    "\n",
    "We now consider functions from the discretized circle $\\mathbb{S}_n^1$ to the real number line $\\mathbb{R}$. We can also think of these functions as functions on the discretized unit interval that “wrap around” when reaching $0$ (from the right) and $1$ (from the left). A function $f \\colon \\mathbb{S}_n^1 \\to \\mathbb{R}$ is easily represented as a n-dimensional vector, namely the vector of function values $\\big(f(x_1),...,f(x_n)\\big)^T$. These functions form an n-dimensional linear space, which is equivalent to $\\mathbb{R}^n$, endowed with the standard inner product and Euclidean norm.\n",
    "\n",
    "1. Given two functions $f_1, f_2 \\colon \\mathbb{S}_n^1 \\to \\mathbb{R}$ write down a formula for their inner product, and for the norm of one of them, and compare to both the Euclidean inner product in Rn and to the $L^2$ inner products we defined in class (for example on continuous functions, or square-integrable functions, on $[0, 1]$).\n",
    "\n",
    "\n",
    "2. Consider the function $f_0 = 1 e_1 + \\ldots, 1 e_k + 0 e_{k+1} + \\ldots + 0 e_n$, where $e_i$ are the standard basis for $\\mathbb{R}^n$ and where the first $k$ coefficient are $1$ and the rest are $0$.  Then define $n$ functions $f_i$ according to the assignment $f_i(x_j) = f_0(x_{j−i})$, for $i = 0, \\ldots , n − 1$. Note that $f_i$ is $f_0$ translated to the right (i.e. clockwise) on the interval (with “wrap-around”) on $\\mathbb{S}_n^1$ by $i$ points. Plot (on the unit circle $\\mathbb{S}_n^1$ or on the discretized interval $[0,1]$) the graphs of $f_1$ and $f_4$ for $n = 6$ and $k = 3$.\n",
    "\n",
    "3. Compute the mean $\\mu$ of the functions $f_0, . . . , f_{n−1}$ and plot the graph of the mean function for $n = 6$ and $k = 3$.\n",
    "\n",
    "Consider the centered functions $\\overline{f_i} = f_i − μ$, represented as vectors as above. Stack the $n$ vectors $\\overline{f_i}$ as columns of an $n \\times n$  matrix $F(k,n)$ depending on parameter $k$ and $n$. \n",
    "\n",
    "4. Describe the matrix that you obtain, and any special pattern you observe in this matrix, and describe the dependency of $F$ on $k$ and $n$ (i.e. how it would change upon changing $k$ and $n$).\n",
    "\n",
    "5. Write an algorithm in Python which constructs the matrix $F(k,n)$ and compute its SVD, for $k=3$ and $n=6$. \n",
    "6. What can you say about the unitary matrices $U$ and $V$ in SVD? Are they the same/similar/not similar, and why?\n",
    "7. Plot several of the columns of $U$ as functions on the discretized interval, and similarly for the columns of $V$ (if you think it is necessary). How do they look like? Can you give an exact or approximate analytic expression for these eigenvectors?\n",
    "8. How do the eigenvectors change with varying $n$ and $k$?\n",
    "9. What about the singular values? Plot them for multiple values of $n$ and $k$ and comment on how they behave for a fixed $n$ and $k$ (as a function of the index of the singular value), and across multiple choices of $n$ and $k$."
   ]
  },
  {
   "cell_type": "markdown",
   "metadata": {},
   "source": []
  },
  {
   "attachments": {},
   "cell_type": "markdown",
   "metadata": {},
   "source": [
    "## Problem 3"
   ]
  },
  {
   "attachments": {},
   "cell_type": "markdown",
   "metadata": {},
   "source": [
    "The goal of this exercise is to do PCA analysis to the following dataset consists of 70 000 records of patients data including 11 features: \n",
    "\n",
    "https://www.kaggle.com/datasets/sulianova/cardiovascular-disease-dataset\n",
    "\n",
    "There are 7000 rows in the dataset.\n",
    "\n",
    "1. Create a new data set extracting only the following features: \n",
    "age, height, weight, systolic blood pressure(ap_hi), diastolic blood pressure (ap_lo), cholesterol \n",
    "\n",
    "2. Randomly select 500 rows of this data set and form the corresponding matrix. \n",
    "\n",
    "3. Form the $6 \\times 6$ covariance matrix. Which features/variables are significantly correlated? \n",
    "\n",
    "3. Carry out the PCA. What are the first two largest components (i.e. the first two right singular vectors)? Which features contribute the most to the largest PCA component?  "
   ]
  },
  {
   "cell_type": "code",
   "execution_count": 75,
   "metadata": {},
   "outputs": [
    {
     "name": "stdout",
     "output_type": "stream",
     "text": [
      "[[-0.27602956  0.51017865]\n",
      " [-0.15428664 -0.70378619]\n",
      " [-0.3190452   0.10659481]\n",
      " [-0.41509766  0.11744339]\n",
      " [-0.60223108  0.17800121]\n",
      " [-0.51305471 -0.43308534]]\n",
      "Feature which contributes the most is: ap_lo\n"
     ]
    }
   ],
   "source": [
    "import pandas as pd\n",
    "import numpy as np\n",
    "\n",
    "# Import the data with pandas and choose the cols  we are going to use\n",
    "cols = ['age', 'height', 'weight', 'ap_hi', 'ap_lo', 'cholesterol']\n",
    "df = pd.read_csv(\"cardio_train.csv\", delimiter=\";\", usecols = cols)\n",
    "\n",
    "# Sample 500 random rows\n",
    "df = df.sample(n=500)\n",
    "\n",
    "# Standarize the Matrix so that the covariance matrix has the diagonals to be 1. \n",
    "dfStandarized = (df - df.mean()) / df.std()\n",
    "    \n",
    "# Calculate covariance matrix \n",
    "covarianceMatrix = np.cov(dfStandarized.T)\n",
    "\n",
    "eigenValues, eigenVectors = np.linalg.eig(covarianceMatrix)\n",
    "\n",
    "# print(covarianceMatrix)\n",
    "# It appears that the second and third are pretty correlated (0.3004), fourth and fifth (2.2425) and third and sixth (0.230) being the top three correlations\n",
    "\n",
    "# Sort the eigenValues to find the two largest components which would have the largest eigenvalues\n",
    "sortedOrder = eigenValues.argsort()[::-1]\n",
    "sortEigenValues = eigenValues[sortedOrder]\n",
    "sortEigenVectors = eigenVectors[sortedOrder]\n",
    "\n",
    "# Pick out the top 2 eigenvectors\n",
    "topTwoSingular = sortEigenVectors[:,:2]\n",
    "#Top 2 Singular Vectors. This is an output that is generated, however this obviously changes a bit by the sample we choose\n",
    "#[[ 0.09941198 -0.46106073]\n",
    " #[-0.6238709   0.33339807]\n",
    " #[-0.27528658 -0.17827001]\n",
    " #[-0.06502564 -0.68696014]\n",
    " #[-0.2322704  -0.40394446]\n",
    " #[-0.68333139 -0.09696995]]\n",
    "\n",
    "print(topTwoSingular)\n",
    "\n",
    "# Compute the new matrix with the two PCA vectors applied to it\n",
    "new_matrix = dfStandarized @ topTwoSingular\n",
    "\n",
    "# Compute the loadings \n",
    "loadings = pd.DataFrame({'Feature': df.columns, 'Loading': topTwoSingular[:, 0]})\n",
    "\n",
    "# Sort the loadings by absolute value in descending order to find the largest feature\n",
    "loadings = loadings.iloc[abs(loadings['Loading']).argsort()[::-1]]\n",
    "\n",
    "# Print which feature is the largest\n",
    "print(\"Feature which contributes the most is:\" ,loadings.iloc[0][0])"
   ]
  }
 ],
 "metadata": {
  "kernelspec": {
   "display_name": "base",
   "language": "python",
   "name": "python3"
  },
  "language_info": {
   "codemirror_mode": {
    "name": "ipython",
    "version": 3
   },
   "file_extension": ".py",
   "mimetype": "text/x-python",
   "name": "python",
   "nbconvert_exporter": "python",
   "pygments_lexer": "ipython3",
   "version": "3.11.1"
  },
  "orig_nbformat": 4,
  "vscode": {
   "interpreter": {
    "hash": "e7943809e827f2ce7da8c5b2d12a479f6c08cd6fd5cc5e4389af6fb02edc8fdc"
   }
  }
 },
 "nbformat": 4,
 "nbformat_minor": 2
}
